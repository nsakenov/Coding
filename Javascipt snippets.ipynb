{
 "cells": [
  {
   "cell_type": "markdown",
   "metadata": {},
   "source": [
    "**Formatting**"
   ]
  },
  {
   "cell_type": "code",
   "execution_count": null,
   "metadata": {},
   "outputs": [],
   "source": [
    "Basic JavaScript: Escape Sequences in Strings\n",
    "Quotes are not the only characters that can be escaped inside a string. There are two reasons to use escaping \n",
    "characters: \n",
    "First is to allow you to use characters you might not otherwise be able to type out, such as a backspace. \n",
    "Second is to allow you to represent multiple quotes in a string without JavaScript misinterpreting what you mean. \n",
    "We learned this in the previous challenge.\n",
    "\n",
    "Code Output\n",
    "\\' single quote\n",
    "\\\" double quote\n",
    "\\\\ backslash\n",
    "\\n newline\n",
    "\\r carriage return\n",
    "\\t tab\n",
    "\\b backspace\n",
    "\\f form feed\n",
    "\n",
    "Note that the backslash itself must be escaped in order to display as a backslash."
   ]
  },
  {
   "cell_type": "markdown",
   "metadata": {},
   "source": [
    "**Sample code**"
   ]
  },
  {
   "cell_type": "code",
   "execution_count": 5,
   "metadata": {},
   "outputs": [
    {
     "name": "stdout",
     "output_type": "stream",
     "text": [
      "Hello world\n"
     ]
    },
    {
     "data": {
      "text/plain": [
       "undefined"
      ]
     },
     "execution_count": 5,
     "metadata": {},
     "output_type": "execute_result"
    }
   ],
   "source": [
    "// printing\n",
    "console.log(\"Hello world\");"
   ]
  },
  {
   "cell_type": "code",
   "execution_count": 9,
   "metadata": {},
   "outputs": [
    {
     "name": "stdout",
     "output_type": "stream",
     "text": [
      "pine\n"
     ]
    },
    {
     "data": {
      "text/plain": [
       "undefined"
      ]
     },
     "execution_count": 9,
     "metadata": {},
     "output_type": "execute_result"
    }
   ],
   "source": [
    "// Setup\n",
    "var myPlants = [\n",
    "  {\n",
    "    type: \"flowers\",\n",
    "    list: [\n",
    "      \"rose\",\n",
    "      \"tulip\",\n",
    "      \"dandelion\"\n",
    "    ]\n",
    "  },\n",
    "  {\n",
    "    type: \"trees\",\n",
    "    list: [\n",
    "      \"fir\",\n",
    "      \"pine\",\n",
    "      \"birch\"\n",
    "    ]\n",
    "  }\n",
    "];\n",
    "\n",
    "// Only change code below this line\n",
    "\n",
    "var secondTree = myPlants[1].list[1];\n",
    "\n",
    "console.log(secondTree);"
   ]
  },
  {
   "cell_type": "code",
   "execution_count": null,
   "metadata": {},
   "outputs": [],
   "source": [
    "function isEqual(a,b) {\n",
    "  if (a === b) {\n",
    "    return true;\n",
    "  } else {\n",
    "    return false;\n",
    "  }\n",
    "}\n",
    "\n",
    "// better way\n",
    "function isEqual(a,b) {\n",
    "  return a === b;\n",
    "}"
   ]
  },
  {
   "cell_type": "markdown",
   "metadata": {},
   "source": [
    "**Basic JavaScript: Record Collection**"
   ]
  },
  {
   "cell_type": "markdown",
   "metadata": {},
   "source": [
    "You are given a JSON object representing a part of your musical album collection. Each album has several properties and a unique id number as its key. Not all albums have complete information.\n",
    "\n",
    "Write a function which takes an album's id (like 2548), a property prop (like \"artist\" or \"tracks\"), and a value (like \"Addicted to Love\") to modify the data in this collection.\n",
    "\n",
    "* If prop isn't \"tracks\" and value isn't empty (\"\"), update or set the value for that record album's property.\n",
    "\n",
    "Your function must always return the entire collection object.\n",
    "\n",
    "There are several rules for handling incomplete data:\n",
    "\n",
    "* If prop is \"tracks\" but the album doesn't have a \"tracks\" property, create an empty array before adding the new value to the album's corresponding property.\n",
    "\n",
    "* If prop is \"tracks\" and value isn't empty (\"\"), push the value onto the end of the album's existing tracks array.\n",
    "\n",
    "* If value is empty (\"\"), delete the given prop property from the album.\n",
    "\n"
   ]
  },
  {
   "cell_type": "code",
   "execution_count": 63,
   "metadata": {},
   "outputs": [
    {
     "data": {
      "text/plain": [
       "undefined"
      ]
     },
     "execution_count": 63,
     "metadata": {},
     "output_type": "execute_result"
    }
   ],
   "source": [
    "// Setup\n",
    "var collection = {\n",
    "    \"2548\": {\n",
    "      \"album\": \"Slippery When Wet\",\n",
    "      \"artist\": \"Bon Jovi\",\n",
    "      \"tracks\": [ \n",
    "        \"Let It Rock\", \n",
    "        \"You Give Love a Bad Name\" \n",
    "      ]\n",
    "    },\n",
    "    \"2468\": {\n",
    "      \"album\": \"1999\",\n",
    "      \"artist\": \"Prince\",\n",
    "      \"tracks\": [ \n",
    "        \"1999\", \n",
    "        \"Little Red Corvette\" \n",
    "      ]\n",
    "    },\n",
    "    \"1245\": {\n",
    "      \"artist\": \"Robert Palmer\",\n",
    "      \"tracks\": [ ]\n",
    "    },\n",
    "    \"5439\": {\n",
    "      \"album\": \"ABBA Gold\"\n",
    "    }\n",
    "};\n",
    "// Keep a copy of the collection for tests\n",
    "var collectionCopy = JSON.parse(JSON.stringify(collection));\n"
   ]
  },
  {
   "cell_type": "code",
   "execution_count": 78,
   "metadata": {},
   "outputs": [
    {
     "data": {
      "text/plain": [
       "undefined"
      ]
     },
     "execution_count": 78,
     "metadata": {},
     "output_type": "execute_result"
    }
   ],
   "source": [
    "function updateRecords(id, prop, value) {\n",
    "    if (prop !== 'tracks' && value !== ''){\n",
    "        collectionCopy[id][prop] = value;\n",
    "        return collectionCopy;\n",
    "    }\n",
    "    else if (prop === 'tracks' && collectionCopy[id].hasOwnProperty('tracks') == false && value !== ''){\n",
    "        collectionCopy[id].tracks = [value];\n",
    "        return collectionCopy;\n",
    "    }\n",
    "    else if (prop === 'tracks' && collectionCopy[id].hasOwnProperty('tracks') == true && value !== ''){\n",
    "        collectionCopy[id]['tracks'].push(value);\n",
    "        return collectionCopy;\n",
    "    }\n",
    "    else if (value === ''){\n",
    "        delete collectionCopy[id][prop];\n",
    "        return collectionCopy;\n",
    "    }\n",
    "}"
   ]
  },
  {
   "cell_type": "markdown",
   "metadata": {},
   "source": [
    "**Basic JavaScript: Iterate with JavaScript While Loops**"
   ]
  },
  {
   "cell_type": "code",
   "execution_count": 82,
   "metadata": {},
   "outputs": [
    {
     "data": {
      "text/plain": [
       "4"
      ]
     },
     "execution_count": 82,
     "metadata": {},
     "output_type": "execute_result"
    }
   ],
   "source": [
    "var myArray = [];\n",
    "var i = 0;\n",
    "while(i < 5) {\n",
    "  myArray.push(i);\n",
    "  i++;\n",
    "}"
   ]
  },
  {
   "cell_type": "code",
   "execution_count": 83,
   "metadata": {},
   "outputs": [
    {
     "data": {
      "text/plain": [
       "[ 0, 1, 2, 3, 4 ]"
      ]
     },
     "execution_count": 83,
     "metadata": {},
     "output_type": "execute_result"
    }
   ],
   "source": [
    "myArray"
   ]
  },
  {
   "cell_type": "markdown",
   "metadata": {},
   "source": [
    "**Basic JavaScript: Iterate with JavaScript For Loops**"
   ]
  },
  {
   "cell_type": "markdown",
   "metadata": {},
   "source": [
    "For loops are declared with three optional expressions separated by semicolons:"
   ]
  },
  {
   "cell_type": "code",
   "execution_count": null,
   "metadata": {},
   "outputs": [],
   "source": [
    "for ([initialization]; [condition]; [final-expression])"
   ]
  },
  {
   "cell_type": "code",
   "execution_count": null,
   "metadata": {},
   "outputs": [],
   "source": [
    "var ourArray = [];\n",
    "for (var i = 0; i < 5; i++) {\n",
    "  ourArray.push(i);\n",
    "}"
   ]
  },
  {
   "cell_type": "markdown",
   "metadata": {},
   "source": [
    "**Basic JavaScript: Iterate Odd Numbers With a For Loop**"
   ]
  },
  {
   "cell_type": "code",
   "execution_count": null,
   "metadata": {},
   "outputs": [],
   "source": [
    "for (var i = 1; i < 10; i += 2) {\n",
    "  myArray.push(i);\n",
    "}"
   ]
  },
  {
   "cell_type": "markdown",
   "metadata": {},
   "source": [
    "**Basic JavaScript: Count Backwards With a For Loop**"
   ]
  },
  {
   "cell_type": "code",
   "execution_count": null,
   "metadata": {},
   "outputs": [],
   "source": [
    "for (var i=9; i > 0; i-=2) {\n",
    "  myArray.push(i);\n",
    "}"
   ]
  },
  {
   "cell_type": "markdown",
   "metadata": {},
   "source": [
    "**Basic JavaScript: Iterate Through an Array with a For Loop**"
   ]
  },
  {
   "cell_type": "code",
   "execution_count": 12,
   "metadata": {},
   "outputs": [
    {
     "data": {
      "text/plain": [
       "20"
      ]
     },
     "execution_count": 12,
     "metadata": {},
     "output_type": "execute_result"
    }
   ],
   "source": [
    "// Setup\n",
    "var myArr = [ 2, 3, 4, 5, 6];\n",
    "\n",
    "// Only change code below this line\n",
    "var total = 0;\n",
    "for (var i=0; i < myArr.length; i++){\n",
    "  total = total + myArr[i];\n",
    "}"
   ]
  },
  {
   "cell_type": "markdown",
   "metadata": {},
   "source": [
    "**Basic JavaScript: Nesting For Loops**"
   ]
  },
  {
   "cell_type": "code",
   "execution_count": 14,
   "metadata": {},
   "outputs": [
    {
     "data": {
      "text/plain": [
       "5040"
      ]
     },
     "execution_count": 14,
     "metadata": {},
     "output_type": "execute_result"
    }
   ],
   "source": [
    "// the function multiplies all values in the nested loop passed to it and returns its product\n",
    "function multiplyAll(arr) {\n",
    "  var product = 1;\n",
    "  // Only change code below this line\n",
    "  for (var i=0; i < arr.length; i++) {\n",
    "    for (var j=0; j < arr[i].length; j++) {\n",
    "      product = product * arr[i][j];\n",
    "    }\n",
    "  }\n",
    "  // Only change code above this line\n",
    "  return product;\n",
    "}\n",
    "\n",
    "// Modify values below to test your code\n",
    "multiplyAll([[1,2],[3,4],[5,6,7]]);"
   ]
  },
  {
   "cell_type": "markdown",
   "metadata": {},
   "source": [
    "**Basic JavaScript: Iterate with JavaScript Do...While Loops**"
   ]
  },
  {
   "cell_type": "code",
   "execution_count": null,
   "metadata": {},
   "outputs": [],
   "source": [
    "// The next type of loop you will learn is called a \"do...while\" loop \n",
    "// because it first will \"do\" one pass of the code inside the loop no matter what, \n",
    "// and then it runs \"while\" a specified condition is true and stops once that condition is no longer true. Let's look at an example.\n",
    "\n",
    "var ourArray = [];\n",
    "var i = 0;\n",
    "do {\n",
    "  ourArray.push(i);\n",
    "  i++;\n",
    "} while (i < 5);\n",
    "// This behaves just as you would expect with any other type of loop, \n",
    "// and the resulting array will look like [0, 1, 2, 3, 4]. \n",
    "// However, what makes the do...while different from other loops is how it behaves when the condition fails on the first check. Let's see this in action.\n",
    "\n",
    "// Here is a regular while loop that will run the code in the loop as long as i < 5.\n",
    "\n",
    "var ourArray = []; \n",
    "var i = 5;\n",
    "while (i < 5) {\n",
    "  ourArray.push(i);\n",
    "  i++;\n",
    "}\n",
    "// Notice that we initialize the value of i to be 5. \n",
    "// When we execute the next line, we notice that i is not less than 5. \n",
    "// So we do not execute the code inside the loop. \n",
    "// The result is that ourArray will end up with nothing added to it, \n",
    "// so it will still look like this [] when all the code in the example above finishes running.\n",
    "\n",
    "// Now, take a look at a do...while loop.\n",
    "\n",
    "var ourArray = []; \n",
    "var i = 5;\n",
    "do {\n",
    "  ourArray.push(i);\n",
    "  i++;\n",
    "} while (i < 5);\n",
    "// In this case, we initialize the value of i as 5, just like we did with the while loop.\n",
    "// When we get to the next line, there is no check for the value of i, \n",
    "// so we go to the code inside the curly braces and execute it. \n",
    "// We will add one element to the array and increment i before we get to the condition check. \n",
    "// Then, when we get to checking if i < 5 see that i is now 6, which fails the conditional check. \n",
    "// So we exit the loop and are done. At the end of the above example, the value of ourArray is [5].\n",
    "\n",
    "Essentially, a do...while loop ensures that the code inside the loop will run at least once.\n",
    "\n"
   ]
  },
  {
   "cell_type": "code",
   "execution_count": 15,
   "metadata": {},
   "outputs": [
    {
     "data": {
      "text/plain": [
       "10"
      ]
     },
     "execution_count": 15,
     "metadata": {},
     "output_type": "execute_result"
    }
   ],
   "source": [
    "// Setup\n",
    "var myArray = [];\n",
    "var i = 10;\n",
    "\n",
    "// Only change code below this line.\n",
    "do {\n",
    "  myArray.push(i);\n",
    "  i++;\n",
    "} while (i < 10);"
   ]
  },
  {
   "cell_type": "markdown",
   "metadata": {},
   "source": [
    "**Solve: Basic JavaScript: Profile Lookup**"
   ]
  },
  {
   "cell_type": "markdown",
   "metadata": {},
   "source": [
    "We have an array of objects representing different people in our contacts lists.\n",
    "\n",
    "A lookUpProfile function that takes name and a property (prop) as arguments has been pre-written for you.\n",
    "\n",
    "The function should check if name is an actual contact's firstName and the given property (prop) is a property of that contact.\n",
    "\n",
    "If both are true, then return the \"value\" of that property.\n",
    "\n",
    "If name does not correspond to any contacts then return \"No such contact\"\n",
    "\n",
    "If prop does not correspond to any valid properties of a contact found to match name then return \"No such property\""
   ]
  },
  {
   "cell_type": "code",
   "execution_count": 16,
   "metadata": {},
   "outputs": [
    {
     "data": {
      "text/plain": [
       "undefined"
      ]
     },
     "execution_count": 16,
     "metadata": {},
     "output_type": "execute_result"
    }
   ],
   "source": [
    "//Setup\n",
    "var contacts = [\n",
    "    {\n",
    "        \"firstName\": \"Akira\",\n",
    "        \"lastName\": \"Laine\",\n",
    "        \"number\": \"0543236543\",\n",
    "        \"likes\": [\"Pizza\", \"Coding\", \"Brownie Points\"]\n",
    "    },\n",
    "    {\n",
    "        \"firstName\": \"Harry\",\n",
    "        \"lastName\": \"Potter\",\n",
    "        \"number\": \"0994372684\",\n",
    "        \"likes\": [\"Hogwarts\", \"Magic\", \"Hagrid\"]\n",
    "    },\n",
    "    {\n",
    "        \"firstName\": \"Sherlock\",\n",
    "        \"lastName\": \"Holmes\",\n",
    "        \"number\": \"0487345643\",\n",
    "        \"likes\": [\"Intriguing Cases\", \"Violin\"]\n",
    "    },\n",
    "    {\n",
    "        \"firstName\": \"Kristian\",\n",
    "        \"lastName\": \"Vos\",\n",
    "        \"number\": \"unknown\",\n",
    "        \"likes\": [\"JavaScript\", \"Gaming\", \"Foxes\"]\n",
    "    }\n",
    "];"
   ]
  },
  {
   "cell_type": "code",
   "execution_count": 40,
   "metadata": {},
   "outputs": [
    {
     "data": {
      "text/plain": [
       "undefined"
      ]
     },
     "execution_count": 40,
     "metadata": {},
     "output_type": "execute_result"
    }
   ],
   "source": [
    "function lookUpProfile(name, prop){\n",
    "// Only change code below this line\n",
    "    for (var i=0; i < contacts.length; i++){\n",
    "      if ( contacts[i]['firstName'] == name && contacts[i].hasOwnProperty(prop)== true){\n",
    "          return contacts[i][prop];\n",
    "      } else if (contacts[i]['firstName'] != name){\n",
    "          return \"No such contact\";\n",
    "      } else if (contacts[i].hasOwnProperty(prop) == false){\n",
    "          return \"No such property\";\n",
    "      }\n",
    "    }\n",
    "// Only change code above this line\n",
    "}"
   ]
  },
  {
   "cell_type": "code",
   "execution_count": 46,
   "metadata": {},
   "outputs": [
    {
     "data": {
      "text/plain": [
       "undefined"
      ]
     },
     "execution_count": 46,
     "metadata": {},
     "output_type": "execute_result"
    }
   ],
   "source": [
    "function test(name, prop){\n",
    "// Only change code below this line\n",
    "    var total = 0;\n",
    "    var firstNamesAndProperties = [];\n",
    "    for (var i=0; i < contacts.length; i++){\n",
    "        firstNamesAndProperties.push(contacts[i]['firstName']);\n",
    "    }\n",
    "    return firstNamesAndProperties;\n",
    "// Only change code above this line\n",
    "}"
   ]
  },
  {
   "cell_type": "code",
   "execution_count": 41,
   "metadata": {},
   "outputs": [
    {
     "data": {
      "text/plain": [
       "undefined"
      ]
     },
     "execution_count": 41,
     "metadata": {},
     "output_type": "execute_result"
    }
   ],
   "source": [
    "// Change these values to test your function\n",
    "lookUpProfile(\"bla\", \"likes\")"
   ]
  },
  {
   "cell_type": "code",
   "execution_count": 47,
   "metadata": {},
   "outputs": [
    {
     "data": {
      "text/plain": [
       "undefined"
      ]
     },
     "execution_count": 47,
     "metadata": {},
     "output_type": "execute_result"
    }
   ],
   "source": [
    "test['asdf', 'asdf']"
   ]
  },
  {
   "cell_type": "code",
   "execution_count": 36,
   "metadata": {},
   "outputs": [
    {
     "data": {
      "text/plain": [
       "false"
      ]
     },
     "execution_count": 36,
     "metadata": {},
     "output_type": "execute_result"
    }
   ],
   "source": [
    "contacts[0]['firstName'] == 'bla'"
   ]
  },
  {
   "cell_type": "markdown",
   "metadata": {},
   "source": [
    "**Solve: Basic JavaScript: Generate Random Fractions with JavaScript**"
   ]
  },
  {
   "cell_type": "markdown",
   "metadata": {},
   "source": [
    "Random numbers are useful for creating random behavior.\n",
    "\n",
    "JavaScript has a Math.random() function that generates a random decimal number between 0 (inclusive) and not quite up to 1 (exclusive). Thus Math.random() can return a 0 but never quite return a 1\n",
    "\n",
    "Note\n",
    "Like Storing Values with the Equal Operator, all function calls will be resolved before the return executes, so we can return the value of the Math.random() function."
   ]
  },
  {
   "cell_type": "code",
   "execution_count": null,
   "metadata": {},
   "outputs": [],
   "source": [
    "function randomFraction() {\n",
    "\n",
    "  // Only change code below this line.\n",
    "\n",
    "  return 0;\n",
    "\n",
    "  // Only change code above this line.\n",
    "}"
   ]
  }
 ],
 "metadata": {
  "kernelspec": {
   "display_name": "Javascript (Node.js)",
   "language": "javascript",
   "name": "javascript"
  },
  "language_info": {
   "file_extension": ".js",
   "mimetype": "application/javascript",
   "name": "javascript",
   "version": "10.15.3"
  }
 },
 "nbformat": 4,
 "nbformat_minor": 2
}
